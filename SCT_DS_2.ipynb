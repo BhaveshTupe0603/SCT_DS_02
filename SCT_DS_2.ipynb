{
  "nbformat": 4,
  "nbformat_minor": 0,
  "metadata": {
    "colab": {
      "provenance": []
    },
    "kernelspec": {
      "name": "python3",
      "display_name": "Python 3"
    },
    "language_info": {
      "name": "python"
    }
  },
  "cells": [
    {
      "cell_type": "markdown",
      "source": [
        "# 🔍 Task 2: Data Cleaning and Exploratory Data Analysis (EDA) on the Titanic Dataset\n",
        "\n",
        "## 📌 Introduction\n",
        "\n",
        "In this task, we perform **data cleaning** and **exploratory data analysis (EDA)** on the widely-used **Titanic dataset** from Kaggle. This dataset contains detailed information about passengers aboard the Titanic, such as their age, gender, ticket class, fare, and survival status.\n",
        "\n",
        "### 🎯 Objectives:\n",
        "\n",
        "- Understand the structure and contents of the dataset.\n",
        "- Clean the data by handling missing or inconsistent values.\n",
        "- Explore relationships between different variables and the target variable (`Survived`).\n",
        "- Identify meaningful patterns and trends that can inform decision-making or predictive modeling.\n",
        "\n",
        "This task reflects a typical assignment for a **data analyst intern**, where the focus is on uncovering insights through data preprocessing and visualization before applying machine learning techniques.\n"
      ],
      "metadata": {
        "id": "StsAau7_AzUK"
      }
    },
    {
      "cell_type": "code",
      "source": [
        "import pandas as pd\n",
        "\n",
        "# Load Titanic dataset (CSV file from Kaggle or Seaborn)\n",
        "df = pd.read_csv('/content/drive/MyDrive/Titanic.csv')\n",
        "\n",
        "# Basic overview\n",
        "print(df.shape)\n",
        "print(df.columns)\n",
        "df.head()\n"
      ],
      "metadata": {
        "id": "vSaitRh5_MVy"
      },
      "execution_count": null,
      "outputs": []
    },
    {
      "cell_type": "code",
      "source": [
        "df.isnull().sum()"
      ],
      "metadata": {
        "id": "uAjMTUQw_2A_"
      },
      "execution_count": null,
      "outputs": []
    },
    {
      "cell_type": "code",
      "source": [
        "# Fill missing Age values with median\n",
        "df['Age'] = df['Age'].fillna(df['Age'].median())\n",
        "\n",
        "# Drop 'Cabin' column (too many missing values)\n",
        "df = df.drop('Cabin', axis=1)\n",
        "\n",
        "# Fill missing Embarked values with mode\n",
        "df['Embarked'] = df['Embarked'].fillna(df['Embarked'].mode()[0])\n"
      ],
      "metadata": {
        "id": "5pPQdmJH_535"
      },
      "execution_count": null,
      "outputs": []
    },
    {
      "cell_type": "code",
      "source": [
        "# Create a new column: FamilySize\n",
        "df['FamilySize'] = df['SibSp'] + df['Parch'] + 1\n",
        "\n",
        "# Convert 'Sex' and 'Embarked' to numeric for analysis\n",
        "df['Sex'] = df['Sex'].map({'male': 0, 'female': 1})\n",
        "df['Embarked'] = df['Embarked'].map({'S': 0, 'C': 1, 'Q': 2})\n"
      ],
      "metadata": {
        "id": "PBb8mhy7AALb"
      },
      "execution_count": null,
      "outputs": []
    },
    {
      "cell_type": "code",
      "source": [
        "survival_rate = df['Survived'].value_counts(normalize=True)\n",
        "print(survival_rate)\n"
      ],
      "metadata": {
        "id": "OWpBeMDoACia"
      },
      "execution_count": null,
      "outputs": []
    },
    {
      "cell_type": "code",
      "source": [
        "import seaborn as sns\n",
        "import matplotlib.pyplot as plt\n",
        "\n",
        "# Set a professional style\n",
        "sns.set_style(\"whitegrid\")\n",
        "sns.set_palette(\"Set1\")\n",
        "\n",
        "# Create the bar plot\n",
        "sns.barplot(x='Sex', y='Survived', data=df,errorbar=None)\n",
        "\n",
        "# Add titles and labels\n",
        "plt.title('Survival Rate by Gender', fontsize=14, weight='bold')\n",
        "plt.xlabel('Gender', fontsize=12)\n",
        "plt.ylabel('Survival Rate', fontsize=12)\n",
        "plt.xticks([0, 1], ['Male', 'Female'])\n",
        "\n",
        "\n",
        "plt.tight_layout()\n",
        "plt.show()\n"
      ],
      "metadata": {
        "id": "upZtS_yQAHBV"
      },
      "execution_count": null,
      "outputs": []
    },
    {
      "cell_type": "code",
      "source": [
        "sns.set_style(\"whitegrid\")\n",
        "sns.set_palette(\"Purples\")\n",
        "\n",
        "# Create the histogram with KDE\n",
        "plt.figure(figsize=(8, 5))\n",
        "sns.histplot(df['Age'], bins=30, kde=True, color='#4C72B0')\n",
        "\n",
        "# Title and labels\n",
        "plt.title('Age Distribution', fontsize=14, weight='bold')\n",
        "plt.xlabel('Age', fontsize=12)\n",
        "plt.ylabel('Frequency', fontsize=12)\n",
        "\n",
        "# Clean layout\n",
        "plt.tight_layout()\n",
        "plt.show()\n"
      ],
      "metadata": {
        "id": "Bw5hI3XJAMsX"
      },
      "execution_count": null,
      "outputs": []
    },
    {
      "cell_type": "code",
      "source": [
        "import seaborn as sns\n",
        "import matplotlib.pyplot as plt\n",
        "\n",
        "# Set style\n",
        "sns.set_style(\"whitegrid\")\n",
        "\n",
        "# Create the bar plot with proportions\n",
        "plt.figure(figsize=(7, 5))\n",
        "ax = sns.barplot(\n",
        "    x='Pclass',\n",
        "    y='Survived',\n",
        "    hue='Pclass',\n",
        "    data=df,\n",
        "    estimator=lambda x: sum(x)/len(x),  # Calculate survival rate\n",
        "    errorbar=None,\n",
        "    palette='deep',\n",
        "    legend=False\n",
        ")\n",
        "\n",
        "# Normalize the y-axis to show proportions\n",
        "ax.set_ylim(0, 1)\n",
        "\n",
        "# Add title and labels\n",
        "plt.title('Survival Rate by Passenger Class', fontsize=14, weight='bold')\n",
        "plt.xlabel('Passenger Class', fontsize=12)\n",
        "plt.ylabel('Survival Rate', fontsize=12)\n",
        "\n",
        "# Annotate survival rate on top of bars\n",
        "for p in ax.patches:\n",
        "    ax.annotate(\n",
        "        f'{p.get_height():.2f}',\n",
        "        (p.get_x() + p.get_width() / 2., p.get_height()),\n",
        "        ha='center',\n",
        "        va='bottom',\n",
        "        fontsize=11,\n",
        "        color='black',\n",
        "        weight='bold'\n",
        "    )\n",
        "\n",
        "plt.tight_layout()\n",
        "plt.show()\n"
      ],
      "metadata": {
        "id": "n1tj39b8ARJD"
      },
      "execution_count": null,
      "outputs": []
    },
    {
      "cell_type": "code",
      "source": [
        "# Map numeric values to port labels\n",
        "df['Embarked'] = df['Embarked'].map({0: 'S', 1: 'C', 2: 'Q'})\n"
      ],
      "metadata": {
        "id": "UcWKkdtoAVPl"
      },
      "execution_count": null,
      "outputs": []
    },
    {
      "cell_type": "code",
      "source": [
        "import seaborn as sns\n",
        "import matplotlib.pyplot as plt\n",
        "\n",
        "sns.set_style(\"whitegrid\")\n",
        "\n",
        "# Custom color palette\n",
        "palette = {'S': '#1f77b4', 'C': '#2ca02c', 'Q': '#ff7f0e'}\n",
        "\n",
        "plt.figure(figsize=(7, 5))\n",
        "ax = sns.barplot(\n",
        "    x='Embarked',\n",
        "    y='Survived',\n",
        "    hue='Embarked',\n",
        "    data=df,\n",
        "    estimator=lambda x: sum(x)/len(x),\n",
        "    errorbar=None,\n",
        "    palette=palette,\n",
        "    legend=False\n",
        ")\n",
        "\n",
        "ax.set_ylim(0, 1)\n",
        "plt.title('Survival Rate by Embarkation Port', fontsize=14, weight='bold')\n",
        "plt.xlabel('Embarkation Port', fontsize=12)\n",
        "plt.ylabel('Survival Rate', fontsize=12)\n",
        "\n",
        "# Annotate percentages\n",
        "for p in ax.patches:\n",
        "    ax.annotate(\n",
        "        f'{p.get_height():.2f}',\n",
        "        (p.get_x() + p.get_width() / 2., p.get_height()),\n",
        "        ha='center', va='bottom', fontsize=11, weight='bold'\n",
        "    )\n",
        "\n",
        "plt.tight_layout()\n",
        "plt.show()\n"
      ],
      "metadata": {
        "id": "SfylWuatGp5V"
      },
      "execution_count": null,
      "outputs": []
    },
    {
      "cell_type": "code",
      "source": [
        "import numpy as np\n",
        "import seaborn as sns\n",
        "import matplotlib.pyplot as plt\n",
        "\n",
        "# Select only numeric columns for correlation matrix\n",
        "numeric_df = df.select_dtypes(include=[np.number])\n",
        "\n",
        "# Compute correlation matrix\n",
        "corr = numeric_df.corr()\n",
        "\n",
        "# Plot heatmap\n",
        "sns.heatmap(corr, annot=True, cmap='coolwarm', fmt=\".2f\")\n",
        "plt.title('Correlation Matrix')\n",
        "plt.show()"
      ],
      "metadata": {
        "id": "Yz88Vy9BAYfk"
      },
      "execution_count": null,
      "outputs": []
    },
    {
      "cell_type": "markdown",
      "source": [
        "| Feature        | Observation                                  |\n",
        "| -------------- | -------------------------------------------- |\n",
        "| **Sex**        | Females were more likely to survive          |\n",
        "| **Pclass**     | Higher classes had better chances            |\n",
        "| **Age**        | Young children and teens had higher survival |\n",
        "| **FamilySize** | Being alone decreased survival odds          |\n",
        "| **Embarked**   | Port 'C' had better survival rates than 'S'  |\n"
      ],
      "metadata": {
        "id": "ZYrtYlw-Ao3I"
      }
    }
  ]
}